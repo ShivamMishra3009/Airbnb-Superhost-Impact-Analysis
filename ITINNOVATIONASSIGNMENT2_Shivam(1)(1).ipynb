{
 "cells": [
  {
   "cell_type": "markdown",
   "id": "c1c594aa",
   "metadata": {
    "id": "c1c594aa"
   },
   "source": [
    "# PARTA"
   ]
  },
  {
   "cell_type": "code",
   "execution_count": null,
   "id": "361c4b27",
   "metadata": {
    "id": "361c4b27",
    "outputId": "f999c15e-cf83-4f53-8b41-76f326e1b3cf"
   },
   "outputs": [
    {
     "name": "stdout",
     "output_type": "stream",
     "text": [
      "Requirement already satisfied: pandas in c:\\users\\pc\\anaconda3\\lib\\site-packages (1.5.3)\n",
      "Requirement already satisfied: statsmodels in c:\\users\\pc\\anaconda3\\lib\\site-packages (0.14.0)\n",
      "Requirement already satisfied: python-dateutil>=2.8.1 in c:\\users\\pc\\anaconda3\\lib\\site-packages (from pandas) (2.8.2)\n",
      "Requirement already satisfied: pytz>=2020.1 in c:\\users\\pc\\anaconda3\\lib\\site-packages (from pandas) (2022.7)\n",
      "Requirement already satisfied: numpy>=1.21.0 in c:\\users\\pc\\anaconda3\\lib\\site-packages (from pandas) (1.24.3)\n",
      "Requirement already satisfied: scipy!=1.9.2,>=1.4 in c:\\users\\pc\\anaconda3\\lib\\site-packages (from statsmodels) (1.10.1)\n",
      "Requirement already satisfied: patsy>=0.5.2 in c:\\users\\pc\\anaconda3\\lib\\site-packages (from statsmodels) (0.5.3)\n",
      "Requirement already satisfied: packaging>=21.3 in c:\\users\\pc\\anaconda3\\lib\\site-packages (from statsmodels) (23.0)\n",
      "Requirement already satisfied: six in c:\\users\\pc\\anaconda3\\lib\\site-packages (from patsy>=0.5.2->statsmodels) (1.16.0)\n",
      "Note: you may need to restart the kernel to use updated packages.\n"
     ]
    }
   ],
   "source": [
    "pip install pandas statsmodels"
   ]
  },
  {
   "cell_type": "markdown",
   "id": "8d4b36ca",
   "metadata": {
    "id": "8d4b36ca"
   },
   "source": [
    "# Q1"
   ]
  },
  {
   "cell_type": "code",
   "execution_count": null,
   "id": "92da3ae7",
   "metadata": {
    "id": "92da3ae7",
    "outputId": "6bf82ccf-fc57-4950-efe7-a1039c240b1a"
   },
   "outputs": [
    {
     "name": "stdout",
     "output_type": "stream",
     "text": [
      "Optimization terminated successfully.\n",
      "         Current function value: 0.440398\n",
      "         Iterations 7\n",
      "                           Logit Regression Results                           \n",
      "==============================================================================\n",
      "Dep. Variable:                   Good   No. Observations:                  800\n",
      "Model:                          Logit   Df Residuals:                      751\n",
      "Method:                           MLE   Df Model:                           48\n",
      "Date:                Sun, 10 Dec 2023   Pseudo R-squ.:                  0.2791\n",
      "Time:                        22:22:04   Log-Likelihood:                -352.32\n",
      "converged:                       True   LL-Null:                       -488.69\n",
      "Covariance Type:            nonrobust   LLR p-value:                 3.465e-33\n",
      "=============================================================================================\n",
      "                                coef    std err          z      P>|z|      [0.025      0.975]\n",
      "---------------------------------------------------------------------------------------------\n",
      "Intercept                     4.6012      1.322      3.480      0.001       2.010       7.193\n",
      "C(CreditPurpose)[T.1]         1.6779      0.436      3.852      0.000       0.824       2.532\n",
      "C(CreditPurpose)[T.2]         0.6780      0.298      2.272      0.023       0.093       1.263\n",
      "C(CreditPurpose)[T.3]         0.7589      0.280      2.708      0.007       0.210       1.308\n",
      "C(CreditPurpose)[T.4]         0.4233      0.784      0.540      0.589      -1.113       1.959\n",
      "C(CreditPurpose)[T.5]         0.2428      0.642      0.378      0.705      -1.015       1.500\n",
      "C(CreditPurpose)[T.6]         0.0344      0.473      0.073      0.942      -0.892       0.961\n",
      "C(CreditPurpose)[T.7]         1.7577      1.232      1.427      0.154      -0.656       4.172\n",
      "C(CreditPurpose)[T.8]         0.3889      0.372      1.046      0.295      -0.340       1.117\n",
      "C(CreditPurpose)[T.9]         1.4690      0.785      1.871      0.061      -0.070       3.008\n",
      "C(DebtorGuarantor)[T.1]      -0.3632      0.474     -0.767      0.443      -1.292       0.565\n",
      "C(DebtorGuarantor)[T.2]       1.4767      0.529      2.790      0.005       0.439       2.514\n",
      "C(CheckingAccount)[T.1]      -1.8223      0.268     -6.804      0.000      -2.347      -1.297\n",
      "C(CheckingAccount)[T.2]      -1.5075      0.266     -5.667      0.000      -2.029      -0.986\n",
      "C(CheckingAccount)[T.3]      -0.5732      0.442     -1.296      0.195      -1.440       0.294\n",
      "C(SavingsAccount)[T.1]       -0.8239      0.287     -2.876      0.004      -1.385      -0.262\n",
      "C(SavingsAccount)[T.2]       -0.2803      0.393     -0.714      0.475      -1.050       0.489\n",
      "C(SavingsAccount)[T.3]       -0.4555      0.481     -0.947      0.343      -1.398       0.487\n",
      "C(SavingsAccount)[T.4]        0.5268      0.611      0.862      0.389      -0.672       1.725\n",
      "C(CreditHistory)[T.1]        -0.6222      0.667     -0.933      0.351      -1.929       0.684\n",
      "C(CreditHistory)[T.2]         0.2556      0.517      0.495      0.621      -0.757       1.268\n",
      "C(CreditHistory)[T.3]         0.7337      0.553      1.327      0.184      -0.350       1.817\n",
      "C(CreditHistory)[T.4]         1.2111      0.529      2.289      0.022       0.174       2.248\n",
      "C(ExistingCredit)[T.2]       -0.5540      0.273     -2.026      0.043      -1.090      -0.018\n",
      "C(ExistingCredit)[T.3]       -0.8821      0.718     -1.229      0.219      -2.289       0.525\n",
      "C(ExistingCredit)[T.4]       -1.8822      1.531     -1.230      0.219      -4.882       1.118\n",
      "C(OtherInstallment)[T.1]     -0.6845      0.279     -2.455      0.014      -1.231      -0.138\n",
      "C(OtherInstallment)[T.2]     -0.5345      0.425     -1.259      0.208      -1.367       0.298\n",
      "C(Female)[T.1]               -0.3979      0.219     -1.820      0.069      -0.826       0.031\n",
      "C(Employment)[T.1]            0.1172      0.491      0.238      0.812      -0.846       1.080\n",
      "C(Employment)[T.2]            0.3423      0.472      0.725      0.469      -0.583       1.268\n",
      "C(Employment)[T.3]            1.0777      0.512      2.104      0.035       0.074       2.081\n",
      "C(Employment)[T.4]            0.4167      0.473      0.881      0.378      -0.510       1.343\n",
      "C(PropertyOwnership)[T.1]     0.8573      0.469      1.829      0.067      -0.061       1.776\n",
      "C(PropertyOwnership)[T.2]     0.5613      0.451      1.245      0.213      -0.323       1.445\n",
      "C(PropertyOwnership)[T.3]     0.4270      0.431      0.990      0.322      -0.419       1.273\n",
      "C(Housing)[T.1]              -0.6050      0.526     -1.151      0.250      -1.635       0.425\n",
      "C(Housing)[T.2]              -0.0768      0.497     -0.154      0.877      -1.052       0.898\n",
      "C(Job)[T.1]                  -0.8415      0.762     -1.105      0.269      -2.334       0.651\n",
      "C(Job)[T.2]                  -0.9644      0.733     -1.315      0.189      -2.402       0.473\n",
      "C(Job)[T.3]                  -0.8682      0.734     -1.183      0.237      -2.307       0.570\n",
      "C(Dependent)[T.2]            -0.3217      0.285     -1.129      0.259      -0.880       0.237\n",
      "C(Telephone)[T.1]             0.4153      0.227      1.833      0.067      -0.029       0.859\n",
      "C(ForeignWorker)[T.1]        -1.4677      0.705     -2.081      0.037      -2.850      -0.085\n",
      "CreditDuration               -0.0187      0.010     -1.779      0.075      -0.039       0.002\n",
      "CreditAmount                 -0.0001   4.99e-05     -2.680      0.007      -0.000   -3.59e-05\n",
      "InstallmentPct               -0.3274      0.102     -3.197      0.001      -0.528      -0.127\n",
      "Age                           0.0216      0.010      2.090      0.037       0.001       0.042\n",
      "ResidenceYears               -0.0433      0.100     -0.434      0.665      -0.239       0.152\n",
      "=============================================================================================\n"
     ]
    }
   ],
   "source": [
    "import pandas as pd\n",
    "import statsmodels.formula.api as smf\n",
    "\n",
    "#Q1 Load the dataset\n",
    "file_path = 'C:\\\\Users\\\\PC\\\\Desktop\\\\IT Innovation\\\\Individual 2\\\\GermanCredit.csv'  # Replace with your actual file path\n",
    "data = pd.read_csv(file_path)\n",
    "\n",
    "# Splitting the dataset into training and validation sets\n",
    "train_data = data.iloc[:800]\n",
    "validation_data = data.iloc[800:]\n",
    "\n",
    "# Logistic regression formula\n",
    "formula = ('Good ~ C(CreditPurpose) + C(DebtorGuarantor) + C(CheckingAccount) + '\n",
    "           'C(SavingsAccount) + C(CreditHistory) + C(ExistingCredit) + '\n",
    "           'C(OtherInstallment) + C(Female) + C(Employment) + C(PropertyOwnership) + '\n",
    "           'C(Housing) + C(Job) + C(Dependent) + C(Telephone) + C(ForeignWorker) + '\n",
    "           'CreditDuration + CreditAmount + InstallmentPct + Age + ResidenceYears')\n",
    "\n",
    "# Building the logistic regression model\n",
    "logistic_model = smf.logit(formula=formula, data=train_data).fit()\n",
    "\n",
    "# Displaying the summary of the model\n",
    "print(logistic_model.summary())\n"
   ]
  },
  {
   "cell_type": "markdown",
   "id": "f1004244",
   "metadata": {
    "id": "f1004244"
   },
   "source": [
    "# Q2"
   ]
  },
  {
   "cell_type": "code",
   "execution_count": null,
   "id": "0ad5209b",
   "metadata": {
    "id": "0ad5209b",
    "outputId": "288f90ad-0710-4faf-9651-23c6f27733c7"
   },
   "outputs": [
    {
     "name": "stdout",
     "output_type": "stream",
     "text": [
      "Optimization terminated successfully.\n",
      "         Current function value: 0.440398\n",
      "         Iterations 7\n",
      "Log Odds for CreditPurpose='1': 2.803604107746638\n",
      "Log Odds for CreditPurpose='0': 1.125711739862072\n",
      "Difference in Log Odds: 1.6778923678845659\n"
     ]
    }
   ],
   "source": [
    "import pandas as pd\n",
    "import statsmodels.formula.api as smf\n",
    "import numpy as np\n",
    "\n",
    "\n",
    "#Q2 Splitting the dataset into training and validation sets\n",
    "train_data = data.iloc[:800]\n",
    "\n",
    "# Logistic regression formula\n",
    "formula = ('Good ~ C(CreditPurpose) + C(DebtorGuarantor) + C(CheckingAccount) + '\n",
    "           'C(SavingsAccount) + C(CreditHistory) + C(ExistingCredit) + '\n",
    "           'C(OtherInstallment) + C(Female) + C(Employment) + C(PropertyOwnership) + '\n",
    "           'C(Housing) + C(Job) + C(Dependent) + C(Telephone) + C(ForeignWorker) + '\n",
    "           'CreditDuration + CreditAmount + InstallmentPct + Age + ResidenceYears')\n",
    "\n",
    "# Building the logistic regression model\n",
    "logistic_model = smf.logit(formula=formula, data=train_data).fit()\n",
    "\n",
    "# Calculating mean or mode for the specified columns\n",
    "mean_mode_values = train_data.agg({\n",
    "    'DebtorGuarantor': lambda x: pd.Series.mode(x)[0], 'CheckingAccount': lambda x: pd.Series.mode(x)[0],\n",
    "    'SavingsAccount': lambda x: pd.Series.mode(x)[0], 'CreditHistory': lambda x: pd.Series.mode(x)[0],\n",
    "    'ExistingCredit': lambda x: pd.Series.mode(x)[0], 'OtherInstallment': lambda x: pd.Series.mode(x)[0],\n",
    "    'Female': lambda x: pd.Series.mode(x)[0], 'Employment': lambda x: pd.Series.mode(x)[0],\n",
    "    'PropertyOwnership': lambda x: pd.Series.mode(x)[0], 'Housing': lambda x: pd.Series.mode(x)[0],\n",
    "    'Job': lambda x: pd.Series.mode(x)[0], 'Dependent': lambda x: pd.Series.mode(x)[0],\n",
    "    'Telephone': lambda x: pd.Series.mode(x)[0], 'ForeignWorker': lambda x: pd.Series.mode(x)[0],\n",
    "    'CreditDuration': 'mean', 'CreditAmount': 'mean', 'InstallmentPct': 'mean',\n",
    "    'Age': 'mean', 'ResidenceYears': 'mean'\n",
    "}).to_dict()\n",
    "\n",
    "# Setting up predictions for CreditPurpose='1' and '0'\n",
    "values_for_prediction1 = mean_mode_values.copy()\n",
    "values_for_prediction1['CreditPurpose'] = 1\n",
    "values_for_prediction2 = mean_mode_values.copy()\n",
    "values_for_prediction2['CreditPurpose'] = 0\n",
    "\n",
    "# Convert dictionaries to dataframes for prediction\n",
    "predict_df1 = pd.DataFrame(values_for_prediction1, index=[0])\n",
    "predict_df2 = pd.DataFrame(values_for_prediction2, index=[0])\n",
    "\n",
    "# Making predictions\n",
    "prob_pred1 = logistic_model.predict(predict_df1)\n",
    "prob_pred2 = logistic_model.predict(predict_df2)\n",
    "\n",
    "# Converting probabilities to log odds\n",
    "log_odds_pred1 = np.log(prob_pred1 / (1 - prob_pred1))\n",
    "log_odds_pred2 = np.log(prob_pred2 / (1 - prob_pred2))\n",
    "\n",
    "# Calculating the difference in log odds\n",
    "log_odds_diff = log_odds_pred1 - log_odds_pred2\n",
    "\n",
    "# Output the results\n",
    "print(\"Log Odds for CreditPurpose='1':\", log_odds_pred1.values[0])\n",
    "print(\"Log Odds for CreditPurpose='0':\", log_odds_pred2.values[0])\n",
    "print(\"Difference in Log Odds:\", log_odds_diff.values[0])\n"
   ]
  },
  {
   "cell_type": "markdown",
   "id": "efe80a0e",
   "metadata": {
    "id": "efe80a0e"
   },
   "source": [
    "# Q3"
   ]
  },
  {
   "cell_type": "code",
   "execution_count": null,
   "id": "7597b1f6",
   "metadata": {
    "id": "7597b1f6",
    "outputId": "cb2b4382-ec78-400a-c11f-a7ab7e09406e"
   },
   "outputs": [
    {
     "name": "stdout",
     "output_type": "stream",
     "text": [
      "Optimization terminated successfully.\n",
      "         Current function value: 0.440398\n",
      "         Iterations 7\n"
     ]
    },
    {
     "name": "stderr",
     "output_type": "stream",
     "text": [
      "C:\\Users\\PC\\AppData\\Local\\Temp\\ipykernel_6004\\2146793702.py:21: SettingWithCopyWarning: \n",
      "A value is trying to be set on a copy of a slice from a DataFrame.\n",
      "Try using .loc[row_indexer,col_indexer] = value instead\n",
      "\n",
      "See the caveats in the documentation: https://pandas.pydata.org/pandas-docs/stable/user_guide/indexing.html#returning-a-view-versus-a-copy\n",
      "  train_data['pred_good'] = logistic_model.predict(train_data)\n",
      "C:\\Users\\PC\\AppData\\Local\\Temp\\ipykernel_6004\\2146793702.py:24: SettingWithCopyWarning: \n",
      "A value is trying to be set on a copy of a slice from a DataFrame.\n",
      "Try using .loc[row_indexer,col_indexer] = value instead\n",
      "\n",
      "See the caveats in the documentation: https://pandas.pydata.org/pandas-docs/stable/user_guide/indexing.html#returning-a-view-versus-a-copy\n",
      "  train_data['pred_good_dec'] = pd.qcut(train_data['pred_good'], 10, labels=range(10, 0, -1))\n"
     ]
    },
    {
     "data": {
      "image/png": "[encoded data removed]",
      "text/plain": [
       "<Figure size 1000x600 with 1 Axes>"
      ]
     },
     "metadata": {},
     "output_type": "display_data"
    },
    {
     "name": "stdout",
     "output_type": "stream",
     "text": [
      "Number of Deciles above 85% probability: 4\n"
     ]
    }
   ],
   "source": [
    "import pandas as pd\n",
    "import statsmodels.formula.api as smf\n",
    "import matplotlib.pyplot as plt\n",
    "import seaborn as sns\n",
    "\n",
    "\n",
    "#Q3 Splitting the dataset into training and validation sets\n",
    "train_data = data.iloc[:800]\n",
    "\n",
    "# Logistic regression formula\n",
    "formula = ('Good ~ C(CreditPurpose) + C(DebtorGuarantor) + C(CheckingAccount) + '\n",
    "           'C(SavingsAccount) + C(CreditHistory) + C(ExistingCredit) + '\n",
    "           'C(OtherInstallment) + C(Female) + C(Employment) + C(PropertyOwnership) + '\n",
    "           'C(Housing) + C(Job) + C(Dependent) + C(Telephone) + C(ForeignWorker) + '\n",
    "           'CreditDuration + CreditAmount + InstallmentPct + Age + ResidenceYears')\n",
    "\n",
    "# Building the logistic regression model\n",
    "logistic_model = smf.logit(formula=formula, data=train_data).fit()\n",
    "\n",
    "# Predicting the probability of being a good credit risk for the training set\n",
    "train_data['pred_good'] = logistic_model.predict(train_data)\n",
    "\n",
    "# Creating 10 deciles in reverse order based on 'pred_good'\n",
    "train_data['pred_good_dec'] = pd.qcut(train_data['pred_good'], 10, labels=range(10, 0, -1))\n",
    "\n",
    "# Calculating the mean of 'Good' for each decile\n",
    "decile_means = train_data.groupby('pred_good_dec')['Good'].mean()\n",
    "\n",
    "# Creating a decile lift chart\n",
    "plt.figure(figsize=(10, 6))\n",
    "sns.barplot(x=decile_means.index, y=decile_means.values)\n",
    "plt.title('Decile Lift Chart')\n",
    "plt.xlabel('Deciles (1 = Highest Predicted Probability)')\n",
    "plt.ylabel('Mean of Good')\n",
    "plt.show()\n",
    "\n",
    "# Counting the number of deciles with more than 85% probability of being a good credit risk\n",
    "deciles_above_85 = sum(decile_means > 0.85)\n",
    "print(\"Number of Deciles above 85% probability:\", deciles_above_85)\n"
   ]
  },
  {
   "cell_type": "markdown",
   "id": "d57d8e34",
   "metadata": {
    "id": "d57d8e34"
   },
   "source": [
    "# Q4"
   ]
  },
  {
   "cell_type": "code",
   "execution_count": null,
   "id": "ef033c28",
   "metadata": {
    "id": "ef033c28",
    "outputId": "b0585702-9b94-49a9-f1db-75f79fd87759"
   },
   "outputs": [
    {
     "data": {
      "text/plain": [
       "(array([[203,  37],\n",
       "        [213, 347]], dtype=int64),\n",
       " 0.6196428571428572,\n",
       " 0.8458333333333333)"
      ]
     },
     "execution_count": 5,
     "metadata": {},
     "output_type": "execute_result"
    }
   ],
   "source": [
    "# Split the data into training and validation sets\n",
    "training_set = data.iloc[:800]\n",
    "validation_set = data.iloc[800:]\n",
    "\n",
    "\n",
    "from sklearn.linear_model import LogisticRegression\n",
    "from sklearn.metrics import confusion_matrix\n",
    "\n",
    "# Predict the probability of being a good credit risk for each observation in the training set\n",
    "pred_probabilities = logistic_model.predict(training_set)\n",
    "\n",
    "# Applying the cutoff of 0.8 to create pred_good_point8\n",
    "pred_good_point8 = (pred_probabilities >= 0.8).astype(int)\n",
    "\n",
    "# Create a confusion matrix\n",
    "conf_matrix = confusion_matrix(training_set['Good'], pred_good_point8)\n",
    "\n",
    "# Calculate sensitivity and specificity\n",
    "# Sensitivity (True Positive Rate): TP / (TP + FN)\n",
    "# Specificity (True Negative Rate): TN / (TN + FP)\n",
    "TP, FN, FP, TN = conf_matrix[1, 1], conf_matrix[1, 0], conf_matrix[0, 1], conf_matrix[0, 0]\n",
    "sensitivity = TP / (TP + FN)\n",
    "specificity = TN / (TN + FP)\n",
    "\n",
    "conf_matrix, sensitivity, specificity"
   ]
  },
  {
   "cell_type": "markdown",
   "id": "442bafd1",
   "metadata": {
    "id": "442bafd1"
   },
   "source": [
    "# Q5"
   ]
  },
  {
   "cell_type": "code",
   "execution_count": null,
   "id": "ce23f5e5",
   "metadata": {
    "id": "ce23f5e5",
    "outputId": "c34e61dc-8752-46a8-b299-239f6c7bea0e"
   },
   "outputs": [
    {
     "name": "stdout",
     "output_type": "stream",
     "text": [
      "Optimization terminated successfully.\n",
      "         Current function value: 0.440398\n",
      "         Iterations 7\n",
      "Total Credit Applications Automatically Approved: 384\n",
      "Number of Good Credit Risks among Approved Applications: 347\n",
      "Number of Bad Credit Risks among Approved Applications: 37\n",
      "Percentage of Good Credit Risks among Approved Applications: 90.36458333333334\n"
     ]
    },
    {
     "name": "stderr",
     "output_type": "stream",
     "text": [
      "C:\\Users\\PC\\AppData\\Local\\Temp\\ipykernel_6004\\2716434357.py:20: SettingWithCopyWarning: \n",
      "A value is trying to be set on a copy of a slice from a DataFrame.\n",
      "Try using .loc[row_indexer,col_indexer] = value instead\n",
      "\n",
      "See the caveats in the documentation: https://pandas.pydata.org/pandas-docs/stable/user_guide/indexing.html#returning-a-view-versus-a-copy\n",
      "  train_data['pred_good'] = logistic_model.predict(train_data)\n",
      "C:\\Users\\PC\\AppData\\Local\\Temp\\ipykernel_6004\\2716434357.py:23: SettingWithCopyWarning: \n",
      "A value is trying to be set on a copy of a slice from a DataFrame.\n",
      "Try using .loc[row_indexer,col_indexer] = value instead\n",
      "\n",
      "See the caveats in the documentation: https://pandas.pydata.org/pandas-docs/stable/user_guide/indexing.html#returning-a-view-versus-a-copy\n",
      "  train_data['pred_good_point8'] = (train_data['pred_good'] >= 0.8).astype(int)\n"
     ]
    }
   ],
   "source": [
    "import pandas as pd\n",
    "import statsmodels.formula.api as smf\n",
    "from sklearn.metrics import confusion_matrix\n",
    "\n",
    "\n",
    "#Q5 Splitting the dataset into training and validation sets\n",
    "train_data = data.iloc[:800]\n",
    "\n",
    "# Logistic regression formula\n",
    "formula = ('Good ~ C(CreditPurpose) + C(DebtorGuarantor) + C(CheckingAccount) + '\n",
    "           'C(SavingsAccount) + C(CreditHistory) + C(ExistingCredit) + '\n",
    "           'C(OtherInstallment) + C(Female) + C(Employment) + C(PropertyOwnership) + '\n",
    "           'C(Housing) + C(Job) + C(Dependent) + C(Telephone) + C(ForeignWorker) + '\n",
    "           'CreditDuration + CreditAmount + InstallmentPct + Age + ResidenceYears')\n",
    "\n",
    "# Building the logistic regression model\n",
    "logistic_model = smf.logit(formula=formula, data=train_data).fit()\n",
    "\n",
    "# Predicting the probability of being a good credit risk\n",
    "train_data['pred_good'] = logistic_model.predict(train_data)\n",
    "\n",
    "# Recoding 'pred_good' into a dummy variable 'pred_good_point8'\n",
    "train_data['pred_good_point8'] = (train_data['pred_good'] >= 0.8).astype(int)\n",
    "\n",
    "# Calculating the number of automatically approved credit applications\n",
    "total_approved = train_data['pred_good_point8'].sum()\n",
    "\n",
    "# Of the approved applications, calculating how many are actually good and bad credit risks\n",
    "approved_good_risks = train_data[train_data['pred_good_point8'] == 1]['Good'].sum()\n",
    "approved_bad_risks = total_approved - approved_good_risks\n",
    "\n",
    "# Calculating the percentage of good credit risks among the approved applications\n",
    "percentage_good_risks = (approved_good_risks / total_approved) * 100\n",
    "\n",
    "# Outputting the results\n",
    "print(\"Total Credit Applications Automatically Approved:\", total_approved)\n",
    "print(\"Number of Good Credit Risks among Approved Applications:\", approved_good_risks)\n",
    "print(\"Number of Bad Credit Risks among Approved Applications:\", approved_bad_risks)\n",
    "print(\"Percentage of Good Credit Risks among Approved Applications:\", percentage_good_risks)\n"
   ]
  },
  {
   "cell_type": "markdown",
   "id": "06bb9365",
   "metadata": {
    "id": "06bb9365"
   },
   "source": [
    "# Q6"
   ]
  },
  {
   "cell_type": "code",
   "execution_count": null,
   "id": "986d4428",
   "metadata": {
    "id": "986d4428",
    "outputId": "ff075706-6df6-4438-86eb-22a0f80c46e2"
   },
   "outputs": [
    {
     "data": {
      "text/plain": [
       "(array([[51,  9],\n",
       "        [56, 84]], dtype=int64),\n",
       " 0.6,\n",
       " 0.85)"
      ]
     },
     "execution_count": 7,
     "metadata": {},
     "output_type": "execute_result"
    }
   ],
   "source": [
    "# Predict the probability of being a good credit risk for each observation in the validation set\n",
    "validation_pred_probabilities = logistic_model.predict(validation_set)\n",
    "\n",
    "# Applying the cutoff of 0.8 to create pred_good_point8 for the validation set\n",
    "validation_pred_good_point8 = (validation_pred_probabilities >= 0.8).astype(int)\n",
    "\n",
    "# Create a confusion matrix for the validation set\n",
    "validation_conf_matrix = confusion_matrix(validation_set['Good'], validation_pred_good_point8)\n",
    "\n",
    "# Calculate sensitivity and specificity for the validation set\n",
    "# Sensitivity (True Positive Rate): TP / (TP + FN)\n",
    "# Specificity (True Negative Rate): TN / (TN + FP)\n",
    "validation_TP, validation_FN, validation_FP, validation_TN = validation_conf_matrix[1, 1], validation_conf_matrix[1, 0], validation_conf_matrix[0, 1], validation_conf_matrix[0, 0]\n",
    "validation_sensitivity = validation_TP / (validation_TP + validation_FN)\n",
    "validation_specificity = validation_TN / (validation_TN + validation_FP)\n",
    "\n",
    "validation_conf_matrix, validation_sensitivity, validation_specificity\n",
    "\n"
   ]
  },
  {
   "cell_type": "markdown",
   "id": "fa9fe72a",
   "metadata": {
    "id": "fa9fe72a"
   },
   "source": [
    "# Q7"
   ]
  },
  {
   "cell_type": "code",
   "execution_count": null,
   "id": "786be776",
   "metadata": {
    "id": "786be776",
    "outputId": "5db186c9-91bd-4029-c33c-ebe35fc358d8"
   },
   "outputs": [
    {
     "name": "stdout",
     "output_type": "stream",
     "text": [
      "Optimization terminated successfully.\n",
      "         Current function value: 0.440398\n",
      "         Iterations 7\n",
      "Total Credit Applications Automatically Approved in Validation Set: 93\n",
      "Sum of Credit Amounts Automatically Approved: 261801\n",
      "Estimated Number of Good Credit Risks among Approved Applications: 84\n"
     ]
    },
    {
     "name": "stderr",
     "output_type": "stream",
     "text": [
      "C:\\Users\\PC\\AppData\\Local\\Temp\\ipykernel_6004\\845316404.py:19: SettingWithCopyWarning: \n",
      "A value is trying to be set on a copy of a slice from a DataFrame.\n",
      "Try using .loc[row_indexer,col_indexer] = value instead\n",
      "\n",
      "See the caveats in the documentation: https://pandas.pydata.org/pandas-docs/stable/user_guide/indexing.html#returning-a-view-versus-a-copy\n",
      "  validation_data['pred_good'] = logistic_model.predict(validation_data)\n",
      "C:\\Users\\PC\\AppData\\Local\\Temp\\ipykernel_6004\\845316404.py:22: SettingWithCopyWarning: \n",
      "A value is trying to be set on a copy of a slice from a DataFrame.\n",
      "Try using .loc[row_indexer,col_indexer] = value instead\n",
      "\n",
      "See the caveats in the documentation: https://pandas.pydata.org/pandas-docs/stable/user_guide/indexing.html#returning-a-view-versus-a-copy\n",
      "  validation_data['pred_good_point8'] = (validation_data['pred_good'] >= 0.8).astype(int)\n"
     ]
    }
   ],
   "source": [
    "import pandas as pd\n",
    "import statsmodels.formula.api as smf\n",
    "\n",
    "#Q7 Splitting the dataset into training and validation sets\n",
    "train_data = data.iloc[:800]\n",
    "validation_data = data.iloc[800:]\n",
    "\n",
    "# Logistic regression formula\n",
    "formula = ('Good ~ C(CreditPurpose) + C(DebtorGuarantor) + C(CheckingAccount) + '\n",
    "           'C(SavingsAccount) + C(CreditHistory) + C(ExistingCredit) + '\n",
    "           'C(OtherInstallment) + C(Female) + C(Employment) + C(PropertyOwnership) + '\n",
    "           'C(Housing) + C(Job) + C(Dependent) + C(Telephone) + C(ForeignWorker) + '\n",
    "           'CreditDuration + CreditAmount + InstallmentPct + Age + ResidenceYears')\n",
    "\n",
    "# Building thee logistic regression model\n",
    "logistic_model = smf.logit(formula=formula, data=train_data).fit()\n",
    "\n",
    "# Predicting the probability of being a good credit risk for the validation set\n",
    "validation_data['pred_good'] = logistic_model.predict(validation_data)\n",
    "\n",
    "# Recoding 'pred_good' into a dummy variable 'pred_good_point8' for the validation set\n",
    "validation_data['pred_good_point8'] = (validation_data['pred_good'] >= 0.8).astype(int)\n",
    "\n",
    "# Calculating the number of automatically approved credit applications in the validation set\n",
    "total_approved_validation = validation_data['pred_good_point8'].sum()\n",
    "\n",
    "# Calculating the sum of credit amounts that will be automatically approved\n",
    "sum_approved_amounts = validation_data[validation_data['pred_good_point8'] == 1]['CreditAmount'].sum()\n",
    "\n",
    "# Using the percentage of automatically approved credit applications that are good credit risks in the training set\n",
    "percentage_good_risks_training = 90.36458333333334  # As reported in Q5\n",
    "\n",
    "# Extrapolating this percentage to the validation set to estimate the number of good credit risks\n",
    "estimated_good_risks_validation = int((percentage_good_risks_training / 100) * total_approved_validation)\n",
    "\n",
    "# Outputting the results\n",
    "print(\"Total Credit Applications Automatically Approved in Validation Set:\", total_approved_validation)\n",
    "print(\"Sum of Credit Amounts Automatically Approved:\", sum_approved_amounts)\n",
    "print(\"Estimated Number of Good Credit Risks among Approved Applications:\", estimated_good_risks_validation)\n"
   ]
  },
  {
   "cell_type": "code",
   "execution_count": null,
   "id": "0a96b86f",
   "metadata": {
    "id": "0a96b86f"
   },
   "outputs": [],
   "source": []
  },
  {
   "cell_type": "markdown",
   "id": "20c6e14a",
   "metadata": {
    "id": "20c6e14a"
   },
   "source": [
    "# PARTB"
   ]
  },
  {
   "cell_type": "markdown",
   "id": "e3ab946a",
   "metadata": {
    "id": "e3ab946a"
   },
   "source": [
    "# Q1"
   ]
  },
  {
   "cell_type": "code",
   "execution_count": null,
   "id": "0839bd0b",
   "metadata": {
    "id": "0839bd0b",
    "outputId": "d8cd5034-5b3d-4021-b54a-7e45b90f31ac"
   },
   "outputs": [
    {
     "name": "stdout",
     "output_type": "stream",
     "text": [
      "Expected Number of Purchases: 46000.0\n",
      "Total Gross Profit: $1,104,000.00\n",
      "Total Printing and Mailing Cost: $1,000,000.00\n",
      "Net Profit: $104,000.00\n",
      "ROI (Return on Investment): 10.40%\n"
     ]
    }
   ],
   "source": [
    "import pandas as pd\n",
    "\n",
    "#Q1 Load the dataset\n",
    "file_path = 'C:\\\\Users\\\\PC\\\\Desktop\\\\IT Innovation\\\\Individual 2\\\\CuteOutfitMarketing.csv'\n",
    "data = pd.read_csv(file_path)\n",
    "# Replace 'NA' and NaN with 'Unknown' in the 'History' column\n",
    "data['History'].fillna('Unknown', inplace=True)\n",
    "\n",
    "# Constants\n",
    "average_sales_per_purchase = 40.00  # Average dollar sales per purchase in dollars\n",
    "gross_profit_margin = 0.60  # Gross profit margin (60%)\n",
    "cost_per_catalog = 2.00  # Cost to print and mail each catalog in dollars\n",
    "total_customers = 500000  # Total number of customers\n",
    "\n",
    "# Estimating the response rate from the sample data\n",
    "response_rate = data['Purchase'].mean()\n",
    "\n",
    "# Estimating the expected number of purchases\n",
    "expected_purchases = total_customers * response_rate\n",
    "\n",
    "# Calculating Gross Profit\n",
    "gross_profit_per_purchase = average_sales_per_purchase * gross_profit_margin\n",
    "total_gross_profit = expected_purchases * gross_profit_per_purchase\n",
    "\n",
    "# Calculating Printing and Mailing Costs\n",
    "total_printing_mailing_cost = total_customers * cost_per_catalog\n",
    "\n",
    "# Calculating Net Profit\n",
    "net_profit = total_gross_profit - total_printing_mailing_cost\n",
    "\n",
    "# Calculating ROI (Return on Investment)\n",
    "roi = net_profit / total_printing_mailing_cost\n",
    "\n",
    "# Outputting the results\n",
    "print(f\"Expected Number of Purchases: {expected_purchases}\")\n",
    "print(f\"Total Gross Profit: ${total_gross_profit:,.2f}\")\n",
    "print(f\"Total Printing and Mailing Cost: ${total_printing_mailing_cost:,.2f}\")\n",
    "print(f\"Net Profit: ${net_profit:,.2f}\")\n",
    "print(f\"ROI (Return on Investment): {roi * 100:.2f}%\")\n",
    "\n"
   ]
  },
  {
   "cell_type": "markdown",
   "id": "9e58fb2d",
   "metadata": {
    "id": "9e58fb2d"
   },
   "source": [
    "# Q2"
   ]
  },
  {
   "cell_type": "code",
   "execution_count": null,
   "id": "bb9a9a5e",
   "metadata": {
    "id": "bb9a9a5e",
    "outputId": "8f3ace63-281c-490c-bd69-46176adca619"
   },
   "outputs": [
    {
     "name": "stdout",
     "output_type": "stream",
     "text": [
      "Warning: Maximum number of iterations has been exceeded.\n",
      "         Current function value: 0.177717\n",
      "         Iterations: 35\n",
      "                                 Results: Logit\n",
      "=================================================================================\n",
      "Model:                    Logit                 Method:                MLE       \n",
      "Dependent Variable:       Purchase              Pseudo R-squared:      0.421     \n",
      "Date:                     2023-12-10 22:22      AIC:                   379.4339  \n",
      "No. Observations:         1000                  BIC:                   438.3270  \n",
      "Df Model:                 11                    Log-Likelihood:        -177.72   \n",
      "Df Residuals:             988                   LL-Null:               -307.14   \n",
      "Converged:                0.0000                LLR p-value:           3.9119e-49\n",
      "No. Iterations:           35.0000               Scale:                 1.0000    \n",
      "---------------------------------------------------------------------------------\n",
      "                       Coef.    Std.Err.     z    P>|z|     [0.025       0.975]  \n",
      "---------------------------------------------------------------------------------\n",
      "Intercept              -5.5296     0.8616 -6.4181 0.0000      -7.2182     -3.8409\n",
      "C(Age)[T.Old]           0.1726     0.3486  0.4952 0.6205      -0.5106      0.8558\n",
      "C(Age)[T.Young]        -1.5966     1.0756 -1.4845 0.1377      -3.7047      0.5114\n",
      "C(Gender)[T.Male]      -0.1717     0.2835 -0.6054 0.5449      -0.7274      0.3841\n",
      "C(OwnHome)[T.Rent]     -0.0448     0.3337 -0.1343 0.8932      -0.6987      0.6091\n",
      "C(Married)[T.Single]   -0.5924     0.4997 -1.1855 0.2358      -1.5719      0.3870\n",
      "C(Location)[T.Far]      1.5466     0.2960  5.2256 0.0000       0.9665      2.1267\n",
      "C(History)[T.Low]     -23.3800 60085.1890 -0.0004 0.9997 -117788.1864 117741.4263\n",
      "C(History)[T.Medium]  -20.8530  9833.3850 -0.0021 0.9983  -19293.9335  19252.2275\n",
      "C(History)[T.Unknown]   0.1055     0.3056  0.3451 0.7300      -0.4935      0.7045\n",
      "Children               -0.3123     0.1790 -1.7451 0.0810      -0.6631      0.0385\n",
      "Income                  0.0000     0.0000  5.7521 0.0000       0.0000      0.0001\n",
      "=================================================================================\n",
      "\n"
     ]
    },
    {
     "name": "stderr",
     "output_type": "stream",
     "text": [
      "C:\\Users\\PC\\anaconda3\\Lib\\site-packages\\statsmodels\\base\\model.py:607: ConvergenceWarning: Maximum Likelihood optimization failed to converge. Check mle_retvals\n",
      "  warnings.warn(\"Maximum Likelihood optimization failed to \"\n"
     ]
    }
   ],
   "source": [
    "import pandas as pd\n",
    "import statsmodels.formula.api as smf\n",
    "\n",
    "# Load your dataset\n",
    "dataset = pd.read_csv('C:\\\\Users\\\\PC\\\\Desktop\\\\IT Innovation\\\\Individual 2\\\\CuteOutfitMarketing.csv')\n",
    "\n",
    "# Replace 'NA' and NaN with 'Unknown' in the 'History' column\n",
    "dataset['History'].fillna('Unknown', inplace=True)\n",
    "\n",
    "# Define the logistic regression model formula\n",
    "formula = 'Purchase ~ C(Age) + C(Gender) + C(OwnHome) + C(Married) + C(Location) + Children + C(History) + Income'\n",
    "\n",
    "# Build the logistic regression model\n",
    "model = smf.logit(formula, data=dataset).fit()\n",
    "\n",
    "# Print the summary of the model\n",
    "print(model.summary2())"
   ]
  },
  {
   "cell_type": "markdown",
   "id": "d2f70189",
   "metadata": {
    "id": "d2f70189"
   },
   "source": [
    "# Q3"
   ]
  },
  {
   "cell_type": "code",
   "execution_count": null,
   "id": "128fc644",
   "metadata": {
    "id": "128fc644",
    "outputId": "1fcd3566-3971-4435-8bbc-16aaf5631eb8"
   },
   "outputs": [
    {
     "name": "stdout",
     "output_type": "stream",
     "text": [
      "Warning: Maximum number of iterations has been exceeded.\n",
      "         Current function value: 0.177717\n",
      "         Iterations: 35\n",
      "        TotalResponses  TotalObservations  ResponseRate\n",
      "Decile                                                 \n",
      "0                    0                100           0.0\n",
      "1                    0                100           0.0\n",
      "2                    0                100           0.0\n",
      "3                    0                100           0.0\n",
      "4                    0                100           0.0\n",
      "5                    0                100           0.0\n",
      "6                    5                100           5.0\n",
      "7                   15                100          15.0\n",
      "8                   19                100          19.0\n",
      "9                   53                100          53.0\n"
     ]
    },
    {
     "name": "stderr",
     "output_type": "stream",
     "text": [
      "C:\\Users\\PC\\anaconda3\\Lib\\site-packages\\statsmodels\\base\\model.py:607: ConvergenceWarning: Maximum Likelihood optimization failed to converge. Check mle_retvals\n",
      "  warnings.warn(\"Maximum Likelihood optimization failed to \"\n"
     ]
    }
   ],
   "source": [
    "import pandas as pd\n",
    "import statsmodels.formula.api as smf\n",
    "\n",
    "\n",
    "# Replace 'NA' and NaN with 'Unknown' in the 'History' column\n",
    "dataset['History'].fillna('Unknown', inplace=True)\n",
    "\n",
    "# Define the logistic regression model formula\n",
    "formula = 'Purchase ~ C(Age) + C(Gender) + C(OwnHome) + C(Married) + C(Location) + Children + C(History) + Income'\n",
    "\n",
    "# Build the logistic regression model\n",
    "model = smf.logit(formula, data=dataset).fit()\n",
    "\n",
    "# Calculate predicted probabilities\n",
    "dataset['PredictedProb'] = model.predict(dataset)\n",
    "\n",
    "# Create reverse deciles based on the predicted probabilities\n",
    "dataset['Decile'] = pd.qcut(dataset['PredictedProb'], 10, labels=False)\n",
    "\n",
    "# Calculate total responses and response rate for each decile\n",
    "decile_analysis = dataset.groupby('Decile').agg(\n",
    "    TotalResponses=pd.NamedAgg(column='Purchase', aggfunc='sum'),\n",
    "    TotalObservations=pd.NamedAgg(column='Purchase', aggfunc='count')\n",
    ")\n",
    "decile_analysis['ResponseRate'] = decile_analysis['TotalResponses'] / decile_analysis['TotalObservations'] * 100\n",
    "\n",
    "# Print the decile analysis\n",
    "print(decile_analysis)\n"
   ]
  },
  {
   "cell_type": "markdown",
   "id": "7993364b",
   "metadata": {
    "id": "7993364b"
   },
   "source": [
    "# Q4"
   ]
  },
  {
   "cell_type": "code",
   "execution_count": null,
   "id": "d6a7b21c",
   "metadata": {
    "id": "d6a7b21c"
   },
   "outputs": [],
   "source": []
  },
  {
   "cell_type": "code",
   "execution_count": null,
   "id": "5b892d93",
   "metadata": {
    "id": "5b892d93",
    "outputId": "1c33b3ff-3337-4e94-8705-5bd3c79b5d79"
   },
   "outputs": [
    {
     "data": {
      "image/png": "[encoded data removed]",
      "text/plain": [
       "<Figure size 1000x500 with 1 Axes>"
      ]
     },
     "metadata": {},
     "output_type": "display_data"
    },
    {
     "data": {
      "image/png": "[encoded data removed]",
      "text/plain": [
       "<Figure size 1000x500 with 1 Axes>"
      ]
     },
     "metadata": {},
     "output_type": "display_data"
    }
   ],
   "source": [
    "# Python code for generating the cumulative lift chart and cumulative gain chart\n",
    "\n",
    "import pandas as pd\n",
    "import statsmodels.api as sm\n",
    "import statsmodels.formula.api as smf\n",
    "import matplotlib.pyplot as plt\n",
    "\n",
    "# Assuming data is already loaded and the logistic regression model is fitted\n",
    "# and 'data' DataFrame contains the necessary columns\n",
    "\n",
    "# Calculate the ratio of positives in Purchase\n",
    "ratio_positives = dataset['Purchase'].mean()\n",
    "\n",
    "# Initialize lists to store cumulative lift and gain values\n",
    "cumulative_lift = []\n",
    "cumulative_gain = []\n",
    "\n",
    "# Total actual positive responses\n",
    "total_positive_responses = dataset['Purchase'].sum()\n",
    "\n",
    "# Loop from the top decile to the bottom\n",
    "for decile in sorted(dataset['Decile'].unique(), reverse=True):\n",
    "    # Data up to the current decile\n",
    "    data_up_to_decile = dataset[dataset['Decile'] >= decile]\n",
    "\n",
    "    # Cumulative positive responses up to this decile\n",
    "    cumulative_positive_responses = data_up_to_decile['Purchase'].sum()\n",
    "\n",
    "    # Cumulative number of samples up to this decile\n",
    "    cumulative_samples = data_up_to_decile.shape[0]\n",
    "\n",
    "    # Cumulative Lift calculation\n",
    "    lift = (cumulative_positive_responses / cumulative_samples) / ratio_positives\n",
    "    cumulative_lift.append(lift)\n",
    "\n",
    "    # Cumulative Gain calculation\n",
    "    gain = cumulative_positive_responses / total_positive_responses\n",
    "    cumulative_gain.append(gain)\n",
    "\n",
    "# Create cumulative lift chart\n",
    "plt.figure(figsize=(10, 5))\n",
    "plt.plot(range(1, 11), cumulative_lift, marker='o')\n",
    "plt.title('Cumulative Lift Chart')\n",
    "plt.xlabel('Decile')\n",
    "plt.ylabel('Cumulative Lift')\n",
    "plt.grid(True)\n",
    "plt.xticks(range(1, 11))\n",
    "plt.show()\n",
    "\n",
    "# Create cumulative gain chart\n",
    "plt.figure(figsize=(10, 5))\n",
    "plt.plot(range(1, 11), cumulative_gain, marker='o', color='green')\n",
    "plt.title('Cumulative Gain Chart')\n",
    "plt.xlabel('Decile')\n",
    "plt.ylabel('Cumulative Gain')\n",
    "plt.grid(True)\n",
    "plt.xticks(range(1, 11))\n",
    "plt.show()"
   ]
  },
  {
   "cell_type": "markdown",
   "id": "d7424847",
   "metadata": {
    "id": "d7424847"
   },
   "source": [
    "# Q5"
   ]
  },
  {
   "cell_type": "code",
   "execution_count": null,
   "id": "b4aecd2e",
   "metadata": {
    "id": "b4aecd2e",
    "outputId": "dbaaf9b5-99bc-4664-e6bc-55cd8fcefe16"
   },
   "outputs": [
    {
     "name": "stdout",
     "output_type": "stream",
     "text": [
      "Warning: Maximum number of iterations has been exceeded.\n",
      "         Current function value: 0.177717\n",
      "         Iterations: 35\n",
      "Breakeven Response Rate: 0.08333333333333333\n",
      "Total Gross Profit: $1020000.0\n",
      "Net Profit: $727000.0\n",
      "ROI: 2.4812286689419794\n"
     ]
    },
    {
     "name": "stderr",
     "output_type": "stream",
     "text": [
      "C:\\Users\\PC\\anaconda3\\Lib\\site-packages\\statsmodels\\base\\model.py:607: ConvergenceWarning: Maximum Likelihood optimization failed to converge. Check mle_retvals\n",
      "  warnings.warn(\"Maximum Likelihood optimization failed to \"\n"
     ]
    }
   ],
   "source": [
    "import pandas as pd\n",
    "import statsmodels.formula.api as smf\n",
    "\n",
    "# Replace 'NA' and NaN with 'Unknown' in the 'History' column\n",
    "dataset['History'].fillna('Unknown', inplace=True)\n",
    "\n",
    "# Define the logistic regression model formula\n",
    "formula = 'Purchase ~ C(Age) + C(Gender) + C(OwnHome) + C(Married) + C(Location) + Children + C(History) + Income'\n",
    "\n",
    "# Build the logistic regression model\n",
    "model = smf.logit(formula, data=dataset).fit()\n",
    "\n",
    "# Calculate predicted probabilities\n",
    "dataset['predicted_prob'] = model.predict(dataset)\n",
    "\n",
    "# Constants for cost and profit calculations\n",
    "cost_per_mail = 2.00  # Cost to print and mail the product catalog to each customer\n",
    "average_sales_per_purchase = 40.00  # Average dollar sales per purchase\n",
    "gross_profit_margin = 0.60  # Gross profit margin\n",
    "\n",
    "# Calculating the breakeven response rate\n",
    "breakeven_response_rate = cost_per_mail / (average_sales_per_purchase * gross_profit_margin)\n",
    "\n",
    "# Create a new variable 'Mail1' based on the breakeven response rate\n",
    "dataset['Mail1'] = dataset['predicted_prob'].apply(lambda x: 1 if x >= breakeven_response_rate else 0)\n",
    "\n",
    "# Estimating the gross profit and net profit for targeted marketing\n",
    "sample_responses = dataset[dataset['Mail1'] == 1]['Purchase'].sum()\n",
    "sample_mailing_cost = dataset['Mail1'].sum() * cost_per_mail\n",
    "\n",
    "# Scale up to the entire customer base of 500,000 customers\n",
    "scaled_responses = (sample_responses / len(dataset)) * 500000  # Total number of customers is 500,000\n",
    "total_mailing_cost = (dataset['Mail1'].sum() / len(dataset)) * 500000 * cost_per_mail\n",
    "\n",
    "# Calculate gross and net profits\n",
    "total_gross_profit = scaled_responses * average_sales_per_purchase * gross_profit_margin\n",
    "net_profit = total_gross_profit - total_mailing_cost\n",
    "\n",
    "# Calculate ROI\n",
    "roi = net_profit / total_mailing_cost if total_mailing_cost else 0\n",
    "\n",
    "# Print the results\n",
    "print(f\"Breakeven Response Rate: {breakeven_response_rate}\")\n",
    "print(f\"Total Gross Profit: ${total_gross_profit}\")\n",
    "print(f\"Net Profit: ${net_profit}\")\n",
    "print(f\"ROI: {roi}\")\n",
    "\n",
    "# Replace '/path/to/your/CuteOutfitMarketing.csv' with the actual path to your dataset file.\n",
    "# Run this code in your local Python environment to perform the analysis.\n"
   ]
  },
  {
   "cell_type": "markdown",
   "id": "000766d3",
   "metadata": {
    "id": "000766d3"
   },
   "source": [
    "# Q6"
   ]
  },
  {
   "cell_type": "code",
   "execution_count": null,
   "id": "ef2f32e7",
   "metadata": {
    "id": "ef2f32e7"
   },
   "outputs": [],
   "source": []
  },
  {
   "cell_type": "code",
   "execution_count": null,
   "id": "92ad1634",
   "metadata": {
    "id": "92ad1634",
    "outputId": "77354893-8b4b-42d1-eeb3-9c2b07ec223f"
   },
   "outputs": [
    {
     "data": {
      "text/html": [
       "<div>\n",
       "<style scoped>\n",
       "    .dataframe tbody tr th:only-of-type {\n",
       "        vertical-align: middle;\n",
       "    }\n",
       "\n",
       "    .dataframe tbody tr th {\n",
       "        vertical-align: top;\n",
       "    }\n",
       "\n",
       "    .dataframe thead th {\n",
       "        text-align: right;\n",
       "    }\n",
       "</style>\n",
       "<table border=\"1\" class=\"dataframe\">\n",
       "  <thead>\n",
       "    <tr style=\"text-align: right;\">\n",
       "      <th></th>\n",
       "      <th>gbt_decile</th>\n",
       "      <th>total_responses</th>\n",
       "      <th>total_customers</th>\n",
       "      <th>response_rate</th>\n",
       "    </tr>\n",
       "  </thead>\n",
       "  <tbody>\n",
       "    <tr>\n",
       "      <th>0</th>\n",
       "      <td>10</td>\n",
       "      <td>0</td>\n",
       "      <td>101</td>\n",
       "      <td>0.00</td>\n",
       "    </tr>\n",
       "    <tr>\n",
       "      <th>1</th>\n",
       "      <td>9</td>\n",
       "      <td>0</td>\n",
       "      <td>99</td>\n",
       "      <td>0.00</td>\n",
       "    </tr>\n",
       "    <tr>\n",
       "      <th>2</th>\n",
       "      <td>8</td>\n",
       "      <td>0</td>\n",
       "      <td>118</td>\n",
       "      <td>0.00</td>\n",
       "    </tr>\n",
       "    <tr>\n",
       "      <th>3</th>\n",
       "      <td>7</td>\n",
       "      <td>0</td>\n",
       "      <td>83</td>\n",
       "      <td>0.00</td>\n",
       "    </tr>\n",
       "    <tr>\n",
       "      <th>4</th>\n",
       "      <td>6</td>\n",
       "      <td>0</td>\n",
       "      <td>104</td>\n",
       "      <td>0.00</td>\n",
       "    </tr>\n",
       "    <tr>\n",
       "      <th>5</th>\n",
       "      <td>5</td>\n",
       "      <td>0</td>\n",
       "      <td>95</td>\n",
       "      <td>0.00</td>\n",
       "    </tr>\n",
       "    <tr>\n",
       "      <th>6</th>\n",
       "      <td>4</td>\n",
       "      <td>0</td>\n",
       "      <td>100</td>\n",
       "      <td>0.00</td>\n",
       "    </tr>\n",
       "    <tr>\n",
       "      <th>7</th>\n",
       "      <td>3</td>\n",
       "      <td>0</td>\n",
       "      <td>100</td>\n",
       "      <td>0.00</td>\n",
       "    </tr>\n",
       "    <tr>\n",
       "      <th>8</th>\n",
       "      <td>2</td>\n",
       "      <td>2</td>\n",
       "      <td>100</td>\n",
       "      <td>0.02</td>\n",
       "    </tr>\n",
       "    <tr>\n",
       "      <th>9</th>\n",
       "      <td>1</td>\n",
       "      <td>90</td>\n",
       "      <td>100</td>\n",
       "      <td>0.90</td>\n",
       "    </tr>\n",
       "  </tbody>\n",
       "</table>\n",
       "</div>"
      ],
      "text/plain": [
       "   gbt_decile  total_responses  total_customers  response_rate\n",
       "0          10                0              101           0.00\n",
       "1           9                0               99           0.00\n",
       "2           8                0              118           0.00\n",
       "3           7                0               83           0.00\n",
       "4           6                0              104           0.00\n",
       "5           5                0               95           0.00\n",
       "6           4                0              100           0.00\n",
       "7           3                0              100           0.00\n",
       "8           2                2              100           0.02\n",
       "9           1               90              100           0.90"
      ]
     },
     "execution_count": 14,
     "metadata": {},
     "output_type": "execute_result"
    }
   ],
   "source": [
    "import pandas as pd\n",
    "from sklearn.ensemble import GradientBoostingClassifier\n",
    "from sklearn.preprocessing import OneHotEncoder\n",
    "from sklearn.compose import ColumnTransformer\n",
    "from sklearn.pipeline import Pipeline\n",
    "\n",
    "# Replace 'NA' and NaN with 'Unknown' in the 'History' column\n",
    "dataset['History'].fillna('Unknown', inplace=True)\n",
    "\n",
    "#Q6 Selecting features and target variable\n",
    "features = ['Age', 'Gender', 'OwnHome', 'Married', 'Location', 'Children', 'History', 'Income']\n",
    "X = data[features]\n",
    "y = data['Purchase']\n",
    "\n",
    "# One-hot encoding for categorical variables\n",
    "categorical_features = ['Age', 'Gender', 'OwnHome', 'Married', 'Location', 'History']\n",
    "one_hot_encoder = OneHotEncoder()\n",
    "\n",
    "# Building the Gradient Boosting Classifier model\n",
    "clf = GradientBoostingClassifier(learning_rate=0.1, n_estimators=100, max_depth=4, random_state=1)\n",
    "\n",
    "# Creating a pipeline with one-hot encoding and the classifier\n",
    "pipeline = Pipeline([\n",
    "    ('one_hot', ColumnTransformer([('one_hot', one_hot_encoder, categorical_features)], remainder='passthrough')),\n",
    "    ('clf', clf)\n",
    "])\n",
    "\n",
    "# Fitting the model\n",
    "pipeline.fit(X, y)\n",
    "\n",
    "# Predicting the probabilities of purchase for each customer\n",
    "data['gbt_prob_purchase'] = pipeline.predict_proba(X)[:, 1]\n",
    "\n",
    "# Creating deciles based on the predicted probabilities\n",
    "data['gbt_decile'] = pd.qcut(data['gbt_prob_purchase'], 10, labels=False)\n",
    "\n",
    "# Calculating the total number of responses and the response rate for each decile\n",
    "gbt_decile_analysis = data.groupby('gbt_decile').agg(\n",
    "    total_responses=('Purchase', 'sum'),\n",
    "    total_customers=('Purchase', 'count'),\n",
    "    response_rate=('Purchase', 'mean')\n",
    ").reset_index()\n",
    "\n",
    "# Renaming the decile to be more intuitive (1 for highest probability, 10 for lowest)\n",
    "gbt_decile_analysis['gbt_decile'] = 10 - gbt_decile_analysis['gbt_decile']\n",
    "\n",
    "# Sorting by decile\n",
    "gbt_decile_analysis = gbt_decile_analysis.sort_values('gbt_decile', ascending=False)\n",
    "gbt_decile_analysis.reset_index(drop=True, inplace=True)\n",
    "\n",
    "gbt_decile_analysis\n"
   ]
  },
  {
   "cell_type": "markdown",
   "id": "11bac749",
   "metadata": {
    "id": "11bac749"
   },
   "source": [
    "# Q7"
   ]
  },
  {
   "cell_type": "code",
   "execution_count": null,
   "id": "43759a45",
   "metadata": {
    "id": "43759a45"
   },
   "outputs": [],
   "source": []
  },
  {
   "cell_type": "code",
   "execution_count": null,
   "id": "4d88db41",
   "metadata": {
    "id": "4d88db41",
    "outputId": "5777bbbb-a59f-45fd-b7f8-66d2f6a19350"
   },
   "outputs": [
    {
     "data": {
      "image/png": "[encoded data removed]",
      "text/plain": [
       "<Figure size 1000x500 with 1 Axes>"
      ]
     },
     "metadata": {},
     "output_type": "display_data"
    },
    {
     "data": {
      "image/png": "[encoded data removed]",
      "text/plain": [
       "<Figure size 1000x500 with 1 Axes>"
      ]
     },
     "metadata": {},
     "output_type": "display_data"
    }
   ],
   "source": [
    "# Re-calculating cumulative lift and gain, this time only for the Gradient Boosted Trees model\n",
    "\n",
    "# Reinitialize lists for cumulative lift and gain\n",
    "cumulative_lift_gbt_only = []\n",
    "cumulative_gain_gbt_only = []\n",
    "\n",
    "# Loop from the top decile to the bottom for the gradient boosted trees model\n",
    "for decile in sorted(data['gbt_decile'].unique(), reverse=True):\n",
    "    # Data up to the current decile\n",
    "    data_up_to_decile_gbt = data[data['gbt_decile'] >= decile]\n",
    "\n",
    "    # Cumulative positive responses up to this decile\n",
    "    cumulative_positive_responses_gbt = data_up_to_decile_gbt['Purchase'].sum()\n",
    "\n",
    "    # Cumulative number of samples up to this decile\n",
    "    cumulative_samples_gbt = data_up_to_decile_gbt.shape[0]\n",
    "\n",
    "    # Cumulative Lift calculation\n",
    "    lift_gbt = (cumulative_positive_responses_gbt / cumulative_samples_gbt) / ratio_positives\n",
    "    cumulative_lift_gbt_only.append(lift_gbt)\n",
    "\n",
    "    # Cumulative Gain calculation\n",
    "    gain_gbt = cumulative_positive_responses_gbt / total_positive_responses\n",
    "    cumulative_gain_gbt_only.append(gain_gbt)\n",
    "\n",
    "# Create cumulative lift chart for the gradient boosted trees model\n",
    "plt.figure(figsize=(10, 5))\n",
    "plt.plot(range(1, 11), cumulative_lift_gbt_only, marker='o', color='blue')\n",
    "plt.title('Cumulative Lift Chart - Gradient Boosted Trees')\n",
    "plt.xlabel('Decile')\n",
    "plt.ylabel('Cumulative Lift')\n",
    "plt.grid(True)\n",
    "plt.xticks(range(1, 11))\n",
    "plt.show()\n",
    "\n",
    "# Create cumulative gain chart for the gradient boosted trees model\n",
    "plt.figure(figsize=(10, 5))\n",
    "plt.plot(range(1, 11), cumulative_gain_gbt_only, marker='o', color='green')\n",
    "plt.title('Cumulative Gain Chart - Gradient Boosted Trees')\n",
    "plt.xlabel('Decile')\n",
    "plt.ylabel('Cumulative Gain')\n",
    "plt.grid(True)\n",
    "plt.xticks(range(1, 11))\n",
    "plt.show()"
   ]
  },
  {
   "cell_type": "markdown",
   "id": "119e80a0",
   "metadata": {
    "id": "119e80a0"
   },
   "source": [
    "# Q8"
   ]
  },
  {
   "cell_type": "code",
   "execution_count": null,
   "id": "6274fe7c",
   "metadata": {
    "id": "6274fe7c",
    "outputId": "910e7578-1de0-42bf-a55c-32baa8f78be8"
   },
   "outputs": [
    {
     "name": "stdout",
     "output_type": "stream",
     "text": [
      "Total Customers Mailed: 189\n",
      "Estimated Gross Profit: $2208.0\n",
      "Total Cost: $378.0\n",
      "Net Profit: $1830.0\n",
      "ROI: 4.84 or 484.13%\n"
     ]
    }
   ],
   "source": [
    "import pandas as pd\n",
    "from sklearn.ensemble import GradientBoostingClassifier\n",
    "from sklearn.preprocessing import OneHotEncoder\n",
    "from sklearn.compose import ColumnTransformer\n",
    "from sklearn.pipeline import Pipeline\n",
    "\n",
    "# Replace 'NA' and NaN with 'Unknown' in the 'History' column\n",
    "dataset['History'].fillna('Unknown', inplace=True)\n",
    "\n",
    "#Q8 Constants\n",
    "average_sales_per_purchase = 40.00  # Average dollar sales per purchase in dollars\n",
    "gross_profit_margin = 0.60  # Gross profit margin (60%)\n",
    "cost_per_catalog = 2.00  # Cost to print and mail each catalog in dollars\n",
    "\n",
    "# Preparing data for the GBT model\n",
    "features = ['Age', 'Gender', 'OwnHome', 'Married', 'Location', 'Children', 'History', 'Income']\n",
    "X = data[features]\n",
    "y = data['Purchase']\n",
    "\n",
    "# One-hot encoding for categorical variables\n",
    "categorical_features = ['Age', 'Gender', 'OwnHome', 'Married', 'Location', 'History']\n",
    "one_hot_encoder = OneHotEncoder()\n",
    "\n",
    "# Building the Gradient Boosting Classifier model\n",
    "clf = GradientBoostingClassifier(learning_rate=0.1, n_estimators=100, max_depth=4, random_state=1)\n",
    "\n",
    "# Creating a pipeline with one-hot encoding and the classifier\n",
    "pipeline = Pipeline([\n",
    "    ('one_hot', ColumnTransformer([('one_hot', one_hot_encoder, categorical_features)], remainder='passthrough')),\n",
    "    ('clf', clf)\n",
    "])\n",
    "\n",
    "# Fitting the model\n",
    "pipeline.fit(X, y)\n",
    "\n",
    "# Predicting the probabilities of purchase for each customer\n",
    "data['gbt_prob_purchase'] = pipeline.predict_proba(X)[:, 1]\n",
    "\n",
    "# Breakeven response rate (previously calculated)\n",
    "breakeven_response_rate = cost_per_catalog / (average_sales_per_purchase * gross_profit_margin)\n",
    "\n",
    "# Creating the \"Mail2\" variable\n",
    "data['Mail2'] = (data['gbt_prob_purchase'] >= breakeven_response_rate).astype(int)\n",
    "\n",
    "# Estimating financial metrics under targeted marketing strategy using \"Mail2\"\n",
    "total_mailed_customers_gbt = data['Mail2'].sum()\n",
    "estimated_responses_gbt = data[data['Mail2'] == 1]['Purchase'].sum()\n",
    "total_gross_profit_targeted_gbt = estimated_responses_gbt * average_sales_per_purchase * gross_profit_margin\n",
    "total_cost_targeted_gbt = total_mailed_customers_gbt * cost_per_catalog\n",
    "net_profit_targeted_gbt = total_gross_profit_targeted_gbt - total_cost_targeted_gbt\n",
    "roi_targeted_gbt = net_profit_targeted_gbt / total_cost_targeted_gbt\n",
    "\n",
    "# Outputting the results\n",
    "print(f\"Total Customers Mailed: {total_mailed_customers_gbt}\")\n",
    "print(f\"Estimated Gross Profit: ${total_gross_profit_targeted_gbt}\")\n",
    "print(f\"Total Cost: ${total_cost_targeted_gbt}\")\n",
    "print(f\"Net Profit: ${net_profit_targeted_gbt}\")\n",
    "print(f\"ROI: {roi_targeted_gbt:.2f} or {roi_targeted_gbt * 100:.2f}%\")\n"
   ]
  },
  {
   "cell_type": "code",
   "execution_count": null,
   "id": "f6f2ca47",
   "metadata": {
    "id": "f6f2ca47"
   },
   "outputs": [],
   "source": []
  },
  {
   "cell_type": "code",
   "execution_count": null,
   "id": "28e18bb9",
   "metadata": {
    "id": "28e18bb9"
   },
   "outputs": [],
   "source": []
  },
  {
   "cell_type": "code",
   "execution_count": null,
   "id": "4b4b69cb",
   "metadata": {
    "id": "4b4b69cb"
   },
   "outputs": [],
   "source": []
  },
  {
   "cell_type": "code",
   "execution_count": null,
   "id": "97c40a9b",
   "metadata": {
    "id": "97c40a9b"
   },
   "outputs": [],
   "source": []
  },
  {
   "cell_type": "code",
   "execution_count": null,
   "id": "fdde632c",
   "metadata": {
    "id": "fdde632c"
   },
   "outputs": [],
   "source": []
  },
  {
   "cell_type": "code",
   "execution_count": null,
   "id": "2a992231",
   "metadata": {
    "id": "2a992231"
   },
   "outputs": [],
   "source": []
  },
  {
   "cell_type": "code",
   "execution_count": null,
   "id": "bee641fd",
   "metadata": {
    "id": "bee641fd"
   },
   "outputs": [],
   "source": []
  }
 ],
 "metadata": {
  "colab": {
   "provenance": []
  },
  "kernelspec": {
   "display_name": "Python 3 (ipykernel)",
   "language": "python",
   "name": "python3"
  },
  "language_info": {
   "codemirror_mode": {
    "name": "ipython",
    "version": 3
   },
   "file_extension": ".py",
   "mimetype": "text/x-python",
   "name": "python",
   "nbconvert_exporter": "python",
   "pygments_lexer": "ipython3",
   "version": "3.11.4"
  }
 },
 "nbformat": 4,
 "nbformat_minor": 5
}
