{
 "cells": [
  {
   "cell_type": "code",
   "execution_count": 1,
   "metadata": {
    "colab": {
     "base_uri": "https://localhost:8080/"
    },
    "id": "UijeU1VNRNK6",
    "outputId": "53284a00-e0bc-43d7-f28e-ee20666e770f"
   },
   "outputs": [
    {
     "name": "stdout",
     "output_type": "stream",
     "text": [
      "Shape of the new dataframe: (120217, 30)\n",
      "First 5 rows of the new dataframe:\n",
      "   Airbnb Property ID  superhost_period_all  host_is_superhost_in_period  \\\n",
      "0              1947.0                  13.0                          0.0   \n",
      "1              1947.0                  15.0                          0.0   \n",
      "2              1947.0                  18.0                          1.0   \n",
      "3              1947.0                  19.0                          0.0   \n",
      "4              1947.0                  20.0                          0.0   \n",
      "\n",
      "   numCancel_pastYear  prop_5_StarReviews_pastYear  numReserv_pastYear  \\\n",
      "0                 0.0                     1.000000                 5.0   \n",
      "1                 1.0                     1.000000                21.0   \n",
      "2                 0.0                     0.733333                32.0   \n",
      "3                 0.0                     0.687500                34.0   \n",
      "4                 0.0                     0.769231                44.0   \n",
      "\n",
      "   hostResponseAverage_pastYear  Pets Allowed Property Type  Bedrooms  ...  \\\n",
      "0                         100.0         False     Apartment       0.0  ...   \n",
      "1                         100.0         False     Apartment       0.0  ...   \n",
      "2                         100.0         False     Apartment       0.0  ...   \n",
      "3                         100.0         False     Apartment       0.0  ...   \n",
      "4                         100.0         False     Apartment       0.0  ...   \n",
      "\n",
      "   rating_ave_pastYear  numReviews_pastYear  numReservedDays_pastYear  \\\n",
      "0             5.000000                  2.0                      20.0   \n",
      "1             5.000000                 12.0                     210.0   \n",
      "2             4.733333                 15.0                     365.0   \n",
      "3             4.625000                 16.0                     406.0   \n",
      "4             4.692308                 26.0                     454.0   \n",
      "\n",
      "   prev_revenue  prev_occupancy_rate  tract_prev_superhosts  \\\n",
      "0           NaN                  NaN                   21.0   \n",
      "1           NaN                  NaN                   16.0   \n",
      "2           NaN                  NaN                   24.0   \n",
      "3           NaN                  NaN                   35.0   \n",
      "4           NaN                  NaN                   17.0   \n",
      "\n",
      "   tract_prev_superhosts_ratio  prev_Rating Overall  prev_Number of Reviews  \\\n",
      "0                     0.280000                  NaN                     NaN   \n",
      "1                     0.347826                  NaN                     NaN   \n",
      "2                     0.387097                  NaN                     NaN   \n",
      "3                     0.522388                 80.0                     2.0   \n",
      "4                     0.326923                 90.0                     3.0   \n",
      "\n",
      "   prev_Nightly Rate  \n",
      "0                NaN  \n",
      "1                NaN  \n",
      "2                NaN  \n",
      "3              57.00  \n",
      "4              47.25  \n",
      "\n",
      "[5 rows x 30 columns]\n"
     ]
    }
   ],
   "source": [
    "# Import necessary libraries\n",
    "import pandas as pd\n",
    "\n",
    "# Load the data from the CSV file\n",
    "df = pd.read_csv('C:\\\\Users\\\\PC\\\\Desktop\\\\IT Innovation\\\\project\\\\data\\\\airbnb_Chicago.csv')\n",
    "\n",
    "# These columns are chosen for their relevance to Airbnb property analysis\n",
    "selected_columns = [\n",
    "    'Airbnb Property ID', 'superhost_period_all', 'host_is_superhost_in_period', 'numCancel_pastYear',\n",
    "    'prop_5_StarReviews_pastYear', 'numReserv_pastYear', 'hostResponseAverage_pastYear', 'Pets Allowed',\n",
    "    'Property Type', 'Bedrooms', 'Bathrooms', 'Cleaning Fee (USD)', 'Rating Overall', 'occupancy_rate',\n",
    "    'zip_total_population', 'zip_hispanic_or_latino_anyrace_percent', 'Number of Reviews',\n",
    "    'zip_white_nothispanic_percent', 'zip_black_nothispanic_percent', 'zip_asian_nothispanic_percent',\n",
    "    'rating_ave_pastYear', 'numReviews_pastYear', 'numReservedDays_pastYear', 'prev_revenue', \n",
    "    'prev_occupancy_rate', 'tract_prev_superhosts', 'tract_prev_superhosts_ratio', 'prev_Rating Overall', \n",
    "    'prev_Number of Reviews', 'prev_Nightly Rate'\n",
    "]\n",
    "\n",
    "\n",
    "# Create a new dataframe with selected columns\n",
    "data = df[selected_columns]\n",
    "\n",
    "# Display the shape of the new dataframe (number of rows and columns)\n",
    "print(\"Shape of the new dataframe:\", data.shape)\n",
    "\n",
    "# Display the first few rows of the new dataframe\n",
    "print(\"First 5 rows of the new dataframe:\")\n",
    "print(data.head())"
   ]
  },
  {
   "cell_type": "code",
   "execution_count": 2,
   "metadata": {
    "id": "kcVUr5F9ac6s"
   },
   "outputs": [],
   "source": [
    "# These variables define minimum performance criteria for two distinct categories, 'JM' and 'JP', \n",
    "# based on star ratings, reservation counts, host response rates, and cancellation limits.\n",
    "\n",
    "JustMiss_MinStarRating=0.7\n",
    "\n",
    "JustMiss_MinReservationCount=8\n",
    "\n",
    "JustMiss_MinHostResponseRate=80\n",
    "\n",
    "JustMiss_MaxCancellationCount=5\n",
    "\n",
    "JustPass_MinStarRating=0.9\n",
    "\n",
    "JustPass_MinReservationCount=12\n",
    "\n",
    "JustPass_MinHostResponseRate=95"
   ]
  },
  {
   "cell_type": "code",
   "execution_count": null,
   "metadata": {
    "colab": {
     "base_uri": "https://localhost:8080/"
    },
    "id": "Iq9K4HjkIi6l",
    "outputId": "3996cab2-78ec-416b-8d2c-bb4a3a2b0b53"
   },
   "outputs": [],
   "source": []
  },
  {
   "cell_type": "code",
   "execution_count": 3,
   "metadata": {
    "id": "AupkqAP024Jj"
   },
   "outputs": [],
   "source": [
    "# period variable diclaration 14,15,16 are quaters \n",
    "\n",
    "p1 = 14\n",
    "p2 = 15\n",
    "p3 = 16"
   ]
  },
  {
   "cell_type": "code",
   "execution_count": 4,
   "metadata": {
    "id": "cyRqSZ1JoEoW"
   },
   "outputs": [],
   "source": [
    "data_1 = data[\n",
    "    (data['prop_5_StarReviews_pastYear'] >= JustMiss_MinStarRating) &\n",
    "    (data['numReserv_pastYear'] >= JustMiss_MinReservationCount) &\n",
    "    (data['hostResponseAverage_pastYear'] >= JustMiss_MinHostResponseRate) &\n",
    "    (data['numCancel_pastYear'] <= JustMiss_MaxCancellationCount) &\n",
    "    (data['host_is_superhost_in_period'] == 0) &\n",
    "    (data['superhost_period_all'] == p1)\n",
    "]\n"
   ]
  },
  {
   "cell_type": "code",
   "execution_count": null,
   "metadata": {
    "colab": {
     "base_uri": "https://localhost:8080/"
    },
    "id": "l6m9OEN30KjP",
    "outputId": "493f7b52-e6b0-4aab-cbc7-1585a558794d"
   },
   "outputs": [],
   "source": []
  },
  {
   "cell_type": "code",
   "execution_count": 5,
   "metadata": {
    "colab": {
     "base_uri": "https://localhost:8080/"
    },
    "id": "17kWKmTIgqfd",
    "outputId": "bb39d366-5e91-467f-e1e5-fe08bda1e54f"
   },
   "outputs": [
    {
     "name": "stderr",
     "output_type": "stream",
     "text": [
      "C:\\Users\\PC\\AppData\\Local\\Temp\\ipykernel_17292\\1520691241.py:10: SettingWithCopyWarning: \n",
      "A value is trying to be set on a copy of a slice from a DataFrame.\n",
      "Try using .loc[row_indexer,col_indexer] = value instead\n",
      "\n",
      "See the caveats in the documentation: https://pandas.pydata.org/pandas-docs/stable/user_guide/indexing.html#returning-a-view-versus-a-copy\n",
      "  Data_2thPeriodNearMiss_JM['treatment'] = 0\n",
      "C:\\Users\\PC\\AppData\\Local\\Temp\\ipykernel_17292\\1520691241.py:19: SettingWithCopyWarning: \n",
      "A value is trying to be set on a copy of a slice from a DataFrame.\n",
      "Try using .loc[row_indexer,col_indexer] = value instead\n",
      "\n",
      "See the caveats in the documentation: https://pandas.pydata.org/pandas-docs/stable/user_guide/indexing.html#returning-a-view-versus-a-copy\n",
      "  Data_2thPeriodPass_JP['treatment'] = 1\n"
     ]
    }
   ],
   "source": [
    "# Data_2thPeriodNearMiss_JM\n",
    "Data_2thPeriodNearMiss_JM = data[(\n",
    "    (data['prop_5_StarReviews_pastYear'] >= JustMiss_MinStarRating) &\n",
    "    (data['numReserv_pastYear'] >= JustMiss_MinReservationCount) &\n",
    "    (data['hostResponseAverage_pastYear'] >= JustMiss_MinHostResponseRate) &\n",
    "    (data['numCancel_pastYear'] <= JustMiss_MaxCancellationCount) &\n",
    "    (data['host_is_superhost_in_period'] == 0)&\n",
    "    (data['superhost_period_all'] == p2)\n",
    ")]\n",
    "Data_2thPeriodNearMiss_JM['treatment'] = 0\n",
    "# Data_2thPeriodPass_JP\n",
    "Data_2thPeriodPass_JP = data[\n",
    "    ((data['prop_5_StarReviews_pastYear'] <= JustPass_MinStarRating) |\n",
    "    (data['numReserv_pastYear'] <= JustPass_MinReservationCount) |\n",
    "    (data['hostResponseAverage_pastYear'] <= JustPass_MinHostResponseRate)) &\n",
    "    (data['host_is_superhost_in_period'] == 1)&\n",
    "    (data['superhost_period_all'] == p2)\n",
    "]\n",
    "Data_2thPeriodPass_JP['treatment'] = 1\n",
    "\n",
    "data_2 = pd.concat([Data_2thPeriodNearMiss_JM, Data_2thPeriodPass_JP], axis=0, ignore_index=True)\n"
   ]
  },
  {
   "cell_type": "code",
   "execution_count": 6,
   "metadata": {
    "id": "doO3isvApmVT"
   },
   "outputs": [],
   "source": [
    "# Merge DataFrames: Combine 'data_1' and 'data_2' DataFrames\n",
    "# The merge is based on the 'Airbnb Property ID' column.\n",
    "# This operation performs a left join, adding the 'treatment' column from 'data_2' to 'data_1'.\n",
    "# The 'how' parameter set to 'left' ensures all records from 'data_1' are retained,\n",
    "# while matching records from 'data_2' are merged based on the 'Airbnb Property ID'.\n",
    "data_1 = pd.merge(data_1, data_2[['Airbnb Property ID', 'treatment']], on='Airbnb Property ID', how='left')\n"
   ]
  },
  {
   "cell_type": "code",
   "execution_count": 7,
   "metadata": {
    "id": "3nJf-Fnnkj5U"
   },
   "outputs": [],
   "source": [
    "# Identify Common Property IDs Between Two DataFrames\n",
    "# This creates a Pandas Series containing Airbnb Property IDs that are present in both 'data_2' and 'data_1'.\n",
    "common_property_ids = pd.Series(list(set(data_2['Airbnb Property ID']).intersection(set(data_1['Airbnb Property ID']))))\n",
    "\n",
    "# Filter Both DataFrames for Common Property IDs\n",
    "# 'dffil1' and 'dffil2' are new DataFrames created by filtering 'data_2' and 'data_1' respectively.\n",
    "# They include only those rows where 'Airbnb Property ID' matches the common IDs identified above.\n",
    "dffil1 = data_2[data_2['Airbnb Property ID'].isin(common_property_ids)]\n",
    "dffil2 = data_1[data_1['Airbnb Property ID'].isin(common_property_ids)]\n",
    "\n",
    "# Concatenate the Filtered DataFrames\n",
    "# The filtered DataFrames are concatenated to form a single DataFrame 'df'.\n",
    "# This combines the rows from both 'dffil1' and 'dffil2'.\n",
    "df = pd.concat([dffil1, dffil2])\n"
   ]
  },
  {
   "cell_type": "code",
   "execution_count": null,
   "metadata": {
    "colab": {
     "base_uri": "https://localhost:8080/"
    },
    "id": "G4AqRAq0lsgS",
    "outputId": "63b34f97-9f3f-43b0-a4ce-c0cd2160c12a"
   },
   "outputs": [],
   "source": []
  },
  {
   "cell_type": "code",
   "execution_count": 8,
   "metadata": {
    "id": "7R9qxF5YvHWw"
   },
   "outputs": [],
   "source": [
    "df['period'] = df['superhost_period_all'].map({p1: 0, p2: 1})"
   ]
  },
  {
   "cell_type": "code",
   "execution_count": 9,
   "metadata": {
    "colab": {
     "base_uri": "https://localhost:8080/"
    },
    "id": "gtSGhMvZvqZ9",
    "outputId": "057d8a58-8998-4fca-a6fb-25e23fcf8805"
   },
   "outputs": [],
   "source": [
    "df = df.dropna()\n",
    "\n"
   ]
  },
  {
   "cell_type": "code",
   "execution_count": 10,
   "metadata": {
    "colab": {
     "base_uri": "https://localhost:8080/",
     "height": 564
    },
    "id": "pWtRGWAeF_l4",
    "outputId": "9f18765a-2abe-4c84-e624-322da47c6250"
   },
   "outputs": [
    {
     "data": {
      "image/png": "[encoded data removed]",
      "text/plain": [
       "<Figure size 1000x600 with 1 Axes>"
      ]
     },
     "metadata": {},
     "output_type": "display_data"
    }
   ],
   "source": [
    "import matplotlib.pyplot as plt\n",
    "\n",
    "# Filter DataFrame for Treatment Group\n",
    "# Selects rows from 'df' where the 'treatment' column is equal to 1, creating a new DataFrame 'TreatmentGroupFiltered_df'.\n",
    "TreatmentGroupFiltered_df = df[df['treatment'] == 1]\n",
    "\n",
    "# Create and Plot Bar Chart for Occupancy Rates\n",
    "# Initializes a figure for the bar chart with a specified size.\n",
    "plt.figure(figsize=(10, 6))\n",
    "\n",
    "# Loop Through Unique Periods\n",
    "# For each unique period in 'df', calculate and plot the average occupancy rate of the treatment group.\n",
    "for period in df['period'].unique():\n",
    "    # Filter 'TreatmentGroupFiltered_df' for the current period and calculate the mean occupancy rate.\n",
    "    SpecificPeriodOccupancy_df = TreatmentGroupFiltered_df[TreatmentGroupFiltered_df['period'] == period]\n",
    "    # Plot a bar for the mean occupancy rate of each period.\n",
    "    plt.bar(period, SpecificPeriodOccupancy_df['occupancy_rate'].mean(), label=f'Period {period}')\n",
    "\n",
    "# Set Chart Title and Axis Labels\n",
    "# Adds a title, x-axis label, and y-axis label to the bar chart.\n",
    "plt.title('Average Occupancy Rates by Period for Properties with Treatment=1')\n",
    "plt.xlabel('Time Period')\n",
    "plt.ylabel('Mean Occupancy Rate (%)')\n",
    "\n",
    "# Add Legend and Display Chart\n",
    "# Displays a legend for the chart and shows the final plot.\n",
    "plt.legend()\n",
    "plt.show()\n"
   ]
  },
  {
   "cell_type": "code",
   "execution_count": 11,
   "metadata": {
    "id": "Fw-kw03BHluG"
   },
   "outputs": [],
   "source": [
    "# Filter rows where superhost_period_all equals 16\n",
    "data_3 = data[data['superhost_period_all'] == p3]\n"
   ]
  },
  {
   "cell_type": "code",
   "execution_count": null,
   "metadata": {
    "colab": {
     "base_uri": "https://localhost:8080/",
     "height": 290
    },
    "id": "s8bla9NdUse8",
    "outputId": "55c21055-9ef2-4804-da47-6c0ba4c27547"
   },
   "outputs": [],
   "source": []
  },
  {
   "cell_type": "code",
   "execution_count": 12,
   "metadata": {
    "id": "oUeE0naWN3ky"
   },
   "outputs": [],
   "source": [
    "# Check for duplicate values in 'Airbnb Property ID' in data_2 or data_3\n",
    "duplicate_ids_1 = data_2['Airbnb Property ID'].duplicated()\n",
    "duplicate_ids_2 = data_3['Airbnb Property ID'].duplicated()\n",
    "\n",
    "# Merge df with data_2 and data_3 based on 'Airbnb Property ID'\n",
    "ConsolidatedProperties_df = pd.merge(df, data_2[['Airbnb Property ID', 'occupancy_rate']], on='Airbnb Property ID', how='left', suffixes=('', '_11'))\n",
    "ConsolidatedProperties_df = pd.merge(ConsolidatedProperties_df, data_3[['Airbnb Property ID', 'occupancy_rate']], on='Airbnb Property ID', how='left', suffixes=('', '_12'))\n",
    "\n",
    "# Create a new column 'occupancy_rate_next' in df based on the values from data_2 and data_3\n",
    "df['occupancy_rate_next'] = None  # Initialize the column with None\n",
    "\n",
    "# Reset the index to avoid non-unique column names issue\n",
    "ConsolidatedProperties_df = ConsolidatedProperties_df.reset_index(drop=True)\n",
    "df = df.reset_index(drop=True)\n",
    "\n",
    "# Rename columns to make them unique\n",
    "ConsolidatedProperties_df = ConsolidatedProperties_df.rename(columns={'occupancy_rate_11': 'occupancy_rate_11', 'occupancy_rate_12': 'occupancy_rate_12'})\n",
    "\n",
    "# Convert the 'occupancy_rate_next' column to float\n",
    "df['occupancy_rate_next'] = pd.to_numeric(ConsolidatedProperties_df['occupancy_rate_11'], errors='coerce').where(df['period'] == 0, pd.to_numeric(ConsolidatedProperties_df['occupancy_rate_12'], errors='coerce'))\n"
   ]
  },
  {
   "cell_type": "code",
   "execution_count": 13,
   "metadata": {
    "id": "zVokAwkyTyoa"
   },
   "outputs": [],
   "source": [
    "# Drop Missing Values and Update DataFrame\n",
    "# Removes rows with any missing values (NaN) from the DataFrame 'df'.\n",
    "df = df.dropna()\n",
    "\n"
   ]
  },
  {
   "cell_type": "code",
   "execution_count": null,
   "metadata": {
    "colab": {
     "base_uri": "https://localhost:8080/"
    },
    "id": "2QGU6hrvcgBD",
    "outputId": "e6b91026-0b61-48e0-eb45-04e89d0fbe0f"
   },
   "outputs": [],
   "source": []
  },
  {
   "cell_type": "code",
   "execution_count": 14,
   "metadata": {
    "colab": {
     "base_uri": "https://localhost:8080/"
    },
    "id": "9UTwO8jJvgVC",
    "outputId": "32963673-e885-4e5e-c4b7-a14b8e11e4be",
    "scrolled": true
   },
   "outputs": [
    {
     "name": "stdout",
     "output_type": "stream",
     "text": [
      "                            OLS Regression Results                            \n",
      "==============================================================================\n",
      "Dep. Variable:         occupancy_rate   R-squared:                       0.245\n",
      "Model:                            OLS   Adj. R-squared:                  0.229\n",
      "Method:                 Least Squares   F-statistic:                     15.33\n",
      "Date:                Fri, 08 Dec 2023   Prob (F-statistic):           2.79e-60\n",
      "Time:                        21:25:45   Log-Likelihood:                 1276.3\n",
      "No. Observations:                1303   AIC:                            -2497.\n",
      "Df Residuals:                    1275   BIC:                            -2352.\n",
      "Df Model:                          27                                         \n",
      "Covariance Type:            nonrobust                                         \n",
      "===========================================================================================================\n",
      "                                              coef    std err          t      P>|t|      [0.025      0.975]\n",
      "-----------------------------------------------------------------------------------------------------------\n",
      "const                                      -0.1107      0.235     -0.471      0.638      -0.572       0.351\n",
      "period                                      0.0804      0.006     14.219      0.000       0.069       0.092\n",
      "treatment                                  -0.0141      0.011     -1.329      0.184      -0.035       0.007\n",
      "interaction_term                            0.0267      0.015      1.792      0.073      -0.003       0.056\n",
      "prop_5_StarReviews_pastYear                -0.1629      0.076     -2.136      0.033      -0.313      -0.013\n",
      "rating_ave_pastYear                         0.2139      0.050      4.311      0.000       0.117       0.311\n",
      "prev_Number of Reviews                     -0.0052      0.000    -10.586      0.000      -0.006      -0.004\n",
      "Bedrooms                                   -0.0085      0.003     -3.031      0.002      -0.014      -0.003\n",
      "Bathrooms                                   0.0168      0.005      3.528      0.000       0.007       0.026\n",
      "Number of Reviews                           0.0051      0.000     10.990      0.000       0.004       0.006\n",
      "zip_hispanic_or_latino_anyrace_percent     -0.0068      0.003     -2.189      0.029      -0.013      -0.001\n",
      "zip_white_nothispanic_percent              -0.0066      0.003     -2.088      0.037      -0.013      -0.000\n",
      "zip_black_nothispanic_percent              -0.0069      0.003     -2.193      0.028      -0.013      -0.001\n",
      "zip_asian_nothispanic_percent              -0.0070      0.003     -2.185      0.029      -0.013      -0.001\n",
      "Pets Allowed_False                         -0.0598      0.118     -0.507      0.612      -0.291       0.172\n",
      "Pets Allowed_True                          -0.0509      0.117     -0.433      0.665      -0.281       0.179\n",
      "Property Type_Apartment                     0.0195      0.020      0.968      0.333      -0.020       0.059\n",
      "Property Type_Bed and breakfast             0.0079      0.064      0.125      0.901      -0.117       0.133\n",
      "Property Type_Boat                          0.0885      0.065      1.370      0.171      -0.038       0.215\n",
      "Property Type_Bungalow                     -0.0198      0.036     -0.545      0.586      -0.091       0.051\n",
      "Property Type_Castle                       -0.0929      0.064     -1.448      0.148      -0.219       0.033\n",
      "Property Type_Condominium                   0.0094      0.021      0.452      0.652      -0.031       0.050\n",
      "Property Type_Guest suite                  -0.0050      0.027     -0.187      0.852      -0.058       0.048\n",
      "Property Type_Guesthouse                   -0.0591      0.064     -0.926      0.355      -0.184       0.066\n",
      "Property Type_House                        -0.0068      0.021     -0.326      0.744      -0.048       0.034\n",
      "Property Type_Loft                          0.0002      0.024      0.008      0.993      -0.047       0.047\n",
      "Property Type_Room in bed and breakfast    -0.0681      0.053     -1.280      0.201      -0.173       0.036\n",
      "Property Type_Room in boutique hotel        0.0354      0.065      0.547      0.584      -0.092       0.162\n",
      "Property Type_Serviced apartment            0.0084      0.037      0.225      0.822      -0.065       0.082\n",
      "Property Type_Townhouse                    -0.0282      0.028     -1.017      0.309      -0.083       0.026\n",
      "==============================================================================\n",
      "Omnibus:                      184.388   Durbin-Watson:                   1.788\n",
      "Prob(Omnibus):                  0.000   Jarque-Bera (JB):              314.182\n",
      "Skew:                           0.915   Prob(JB):                     5.97e-69\n",
      "Kurtosis:                       4.562   Cond. No.                     1.25e+16\n",
      "==============================================================================\n",
      "\n",
      "Notes:\n",
      "[1] Standard Errors assume that the covariance matrix of the errors is correctly specified.\n",
      "[2] The smallest eigenvalue is 1.05e-25. This might indicate that there are\n",
      "strong multicollinearity problems or that the design matrix is singular.\n"
     ]
    }
   ],
   "source": [
    "# Import Required Libraries\n",
    "import pandas as pd\n",
    "import numpy as np\n",
    "import statsmodels.api as sm\n",
    "\n",
    "# Interaction Term Creation\n",
    "# Calculate an interaction term by multiplying 'period' and 'treatment' columns in the DataFrame 'df'.\n",
    "df['interaction_term'] = df['period'] * df['treatment']\n",
    "\n",
    "# Define Predictor Variables (Features)\n",
    "# Select a set of explanatory variables for the regression model and create a DataFrame 'X'.\n",
    "X = df[['period', 'treatment', 'interaction_term', 'prop_5_StarReviews_pastYear', 'rating_ave_pastYear', \n",
    "        'Property Type', 'Pets Allowed', 'prev_Number of Reviews', 'Bedrooms', 'Bathrooms', \n",
    "        'Number of Reviews', 'zip_hispanic_or_latino_anyrace_percent', 'zip_white_nothispanic_percent', \n",
    "        'zip_black_nothispanic_percent', 'zip_asian_nothispanic_percent']]\n",
    "\n",
    "# Convert Categorical Variables to Dummy Variables\n",
    "# Apply one-hot encoding to categorical features to make them suitable for the regression model.\n",
    "X = pd.get_dummies(X, columns=['Pets Allowed', 'Property Type'])\n",
    "\n",
    "# Define Response Variable\n",
    "# Transform the 'occupancy_rate' column using a log transformation and assign it to 'y'.\n",
    "y = np.log1p(df[['occupancy_rate']])\n",
    "\n",
    "# Add Constant to Predictor Variables\n",
    "# Add a constant term to 'X' to include an intercept in the regression model.\n",
    "X = sm.add_constant(X)\n",
    "\n",
    "# Fit the Regression Model\n",
    "# Initialize and fit an Ordinary Least Squares (OLS) regression model using 'X' and 'y'.\n",
    "model = sm.OLS(y, X)\n",
    "results = model.fit()\n",
    "\n",
    "# Print the Summary of the Regression Model\n",
    "# Display a summary of the regression results, including coefficients and diagnostics.\n",
    "print(results.summary())\n"
   ]
  },
  {
   "cell_type": "code",
   "execution_count": 15,
   "metadata": {},
   "outputs": [
    {
     "data": {
      "image/png": "[encoded data removed]",
      "text/plain": [
       "<Figure size 1000x600 with 1 Axes>"
      ]
     },
     "metadata": {},
     "output_type": "display_data"
    },
    {
     "name": "stdout",
     "output_type": "stream",
     "text": [
      "Mean Occupancy Rate: 0.17076232058030028\n"
     ]
    }
   ],
   "source": [
    "import pandas as pd\n",
    "import matplotlib.pyplot as plt\n",
    "import seaborn as sns\n",
    "\n",
    "\n",
    "# Check if 'occupancy_rate' column is present in the dataset\n",
    "if 'occupancy_rate' in df.columns:\n",
    "    # Plotting the distribution of occupancy rates\n",
    "    plt.figure(figsize=(10, 6))\n",
    "    sns.histplot(df['occupancy_rate'], kde=True)\n",
    "    plt.title('Distribution of Occupancy Rates')\n",
    "    plt.xlabel('Occupancy Rate')\n",
    "    plt.ylabel('Frequency')\n",
    "    plt.show()\n",
    "else:\n",
    "    print(\"'occupancy_rate' column not found in the dataset.\")\n",
    "# Calculate the mean of the 'occupancy_rate' column\n",
    "occupancy_rate_mean = df['occupancy_rate'].mean()\n",
    "\n",
    "# Print the mean\n",
    "print(\"Mean Occupancy Rate:\", occupancy_rate_mean)"
   ]
  }
 ],
 "metadata": {
  "colab": {
   "provenance": []
  },
  "kernelspec": {
   "display_name": "Python 3 (ipykernel)",
   "language": "python",
   "name": "python3"
  },
  "language_info": {
   "codemirror_mode": {
    "name": "ipython",
    "version": 3
   },
   "file_extension": ".py",
   "mimetype": "text/x-python",
   "name": "python",
   "nbconvert_exporter": "python",
   "pygments_lexer": "ipython3",
   "version": "3.11.4"
  }
 },
 "nbformat": 4,
 "nbformat_minor": 1
}
